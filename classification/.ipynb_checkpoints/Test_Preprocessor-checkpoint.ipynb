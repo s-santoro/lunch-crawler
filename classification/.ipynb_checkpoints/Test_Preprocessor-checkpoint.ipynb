{
 "cells": [
  {
   "cell_type": "code",
   "execution_count": 1,
   "metadata": {
    "scrolled": false
   },
   "outputs": [
    {
     "name": "stdout",
     "output_type": "stream",
     "text": [
      "     Unnamed: 0                           date  \\\n",
      "627         187  Mon, 11 Mar 2019 05:15:03 GMT   \n",
      "628         188  Mon, 11 Mar 2019 06:08:14 GMT   \n",
      "629         189  Mon, 11 Mar 2019 06:35:30 GMT   \n",
      "630         190  Sun, 10 Mar 2019 17:35:11 GMT   \n",
      "631         191  Sun, 10 Mar 2019 12:28:45 GMT   \n",
      "\n",
      "                                                  text encoding  \\\n",
      "627  Navigation Home Tagesmenu A la carte Galerie E...    UTF-8   \n",
      "628  Reservation 3 Home Menukarte Reservieren Konta...    UTF-8   \n",
      "629  Menu Reservationen Catering Events News Menu R...    UTF-8   \n",
      "630  Willkommen Speisen & Getränke Hausspezialitäte...    UTF-8   \n",
      "631  info@mesob-restaurant.ch DE Home Mesob Menu K...    utf-8   \n",
      "\n",
      "                                      title  \\\n",
      "627                Tagesmenu |Luna Mexicana   \n",
      "628   Menukarte Archives - MaharanaMaharana   \n",
      "629                         Menu — Maharani   \n",
      "630  Mittagsmenü - Restaurant Le Mazot Bern   \n",
      "631                        Mesob Restaurant   \n",
      "\n",
      "                                            url  \\\n",
      "627    http://www.lunamexicana.ch/tagesmenu.php   \n",
      "628  http://www.maharana.ch/menu-category/menu/   \n",
      "629                https://www.maharani.ch/menu   \n",
      "630  http://www.mazot-bern.ch/tagesmenuuml.html   \n",
      "631         https://mesob-restaurant.ch/v2/Menu   \n",
      "\n",
      "                                               content  Class  \n",
      "627  <!DOCTYPE html>\\r\\n<html lang=\"de\">\\r\\n\\r\\n<he...      1  \n",
      "628  <!DOCTYPE html>\\r\\n<!--[if lt IE 7]> <html cla...      1  \n",
      "629  <!doctype html>\\r\\n\\r\\n<html xmlns:og=\"http://...      1  \n",
      "630  <!DOCTYPE html>\\r\\n<html>\\r\\n\\t<head><script s...      1  \n",
      "631  <!DOCTYPE html>\\r\\r\\n<html>\\r\\r\\n<head>\\r\\r\\n ...      1  \n"
     ]
    }
   ],
   "source": [
    "import pandas as pd\n",
    "import numpy as np  \n",
    "import re  \n",
    "\n",
    "\n",
    "data = pd.read_csv('data/2019-03-20T1404_Importer_out.csv')\n",
    "print(data.tail())"
   ]
  },
  {
   "cell_type": "code",
   "execution_count": 28,
   "metadata": {},
   "outputs": [
    {
     "name": "stdout",
     "output_type": "stream",
     "text": [
      "Café Neumärt Home Über uns Warme Getränke Tee im Kännchen Kalte Getränke Frühstück Tages u. Wochenmenüs Kalte Speisen Warme Speisen Glaçe Süsses Galerie Wunschliste Gästebuch Weg zum Cafe Über die Gasse Kontakt Birchermüesli Birchermüesli klein mit Rahm Birchermüesli gross mit Rahm Fr. 5.30 Fr. 6.30 Fr. 9.50 Fr. 11.70 Salate Kleiner grüner Salat Kleiner Tomatensalat Kleiner gemischter Salat Grüner Salat mit Ei, Tomaten und Spargelspitzen Salatteller mit verschiedenen Salaten und Ei garniert Salat Niçoise Fr. 5.90 Fr. 5.90 Fr. 7.90 Fr. 9.90 Fr. 15.90 Fr. 16.90 Sandwiches (mit Hausbrot) Ei Fleischkäse Käse Salami Schinken Spargeln Thon Rohschinken Fr. 6.90 Fr. 7.60 Canapé Ei Fleischkäse Käse Salami Schinken Spargeln Thon Fr. 6.90 Cafe Neumärt Neumarkt 28 8001 Zürich Tel. 044 251 00 12 Öffnungszeiten Montag - Donnerstag 6:00 - 18:00 Uhr Freitag 6:00 - 17:00 Uhr Samstag 7:00 - 14:00 Uhr Sonn. u. Feiertage geschlossen ******************* Gratis WLAN für unsere Gäste ******************* Jeden Tag frische Fruchtwähen ******************* Impressum | Datenschutz | Cookie-Richtlinie | Sitemap Abmelden | Bearbeiten\n"
     ]
    }
   ],
   "source": [
    "raw_text = data['text'].iloc[500]\n",
    "\n",
    "print(raw_text)"
   ]
  },
  {
   "cell_type": "markdown",
   "metadata": {},
   "source": [
    "# Preprocessing"
   ]
  },
  {
   "cell_type": "code",
   "execution_count": 42,
   "metadata": {
    "scrolled": false
   },
   "outputs": [
    {
     "name": "stdout",
     "output_type": "stream",
     "text": [
      "Caf Neumärt Home Über uns Warme Getränke Tee im Kännchen Kalte Getränke Frühstück Tages u. Wochenmenüs Kalte Speisen Warme Speisen Gla e Süsses Galerie Wunschliste Gästebuch Weg zum Cafe Über die Gasse Kontakt Birchermüesli Birchermüesli klein mit Rahm Birchermüesli gross mit Rahm Fr. 5.30 Fr. 6.30 Fr. 9.50 Fr. 11.70 Salate Kleiner grüner Salat Kleiner Tomatensalat Kleiner gemischter Salat Grüner Salat mit Ei Tomaten und Spargelspitzen Salatteller mit verschiedenen Salaten und Ei garniert Salat Ni oise Fr. 5.90 Fr. 5.90 Fr. 7.90 Fr. 9.90 Fr. 15.90 Fr. 16.90 Sandwiches mit Hausbrot Ei Fleischkäse Käse Salami Schinken Spargeln Thon Rohschinken Fr. 6.90 Fr. 7.60 Canap Ei Fleischkäse Käse Salami Schinken Spargeln Thon Fr. 6.90 Cafe Neumärt Neumarkt 28 8001 Zürich Tel. 044 251 00 12 Öffnungszeiten Montag Donnerstag 6 00 18 00 Uhr Freitag 6 00 17 00 Uhr Samstag 7 00 14 00 Uhr Sonn. u. Feiertage geschlossen Gratis WLAN für unsere Gäste Jeden Tag frische Fruchtwähen Impressum Datenschutz Cookie Richtlinie Sitemap Abmelden Bearbeiten\n"
     ]
    }
   ],
   "source": [
    "# Remove all the special characters\n",
    "processed_text = re.sub(r'[^äöüÄÖÜa-zA-Z0-9\\.]+', ' ', str(raw_text))\n",
    "# processed_text = re.sub(r'\\W', ' ', str(raw_text))   --> Alternative: Alle Special caracters löschen, auch punkte zwischen Zahlen\n",
    "print(processed_text)\n",
    "\n",
    "# Punkte zwischen Zahlen???"
   ]
  },
  {
   "cell_type": "code",
   "execution_count": 43,
   "metadata": {},
   "outputs": [
    {
     "name": "stdout",
     "output_type": "stream",
     "text": [
      "Caf Neumärt Home Über uns Warme Getränke Tee im Kännchen Kalte Getränke Frühstück Tages u. Wochenmenüs Kalte Speisen Warme Speisen Gla Süsses Galerie Wunschliste Gästebuch Weg zum Cafe Über die Gasse Kontakt Birchermüesli Birchermüesli klein mit Rahm Birchermüesli gross mit Rahm Fr. 5.30 Fr. 6.30 Fr. 9.50 Fr. 11.70 Salate Kleiner grüner Salat Kleiner Tomatensalat Kleiner gemischter Salat Grüner Salat mit Ei Tomaten und Spargelspitzen Salatteller mit verschiedenen Salaten und Ei garniert Salat Ni oise Fr. 5.90 Fr. 5.90 Fr. 7.90 Fr. 9.90 Fr. 15.90 Fr. 16.90 Sandwiches mit Hausbrot Ei Fleischkäse Käse Salami Schinken Spargeln Thon Rohschinken Fr. 6.90 Fr. 7.60 Canap Ei Fleischkäse Käse Salami Schinken Spargeln Thon Fr. 6.90 Cafe Neumärt Neumarkt 28 8001 Zürich Tel. 044 251 00 12 Öffnungszeiten Montag Donnerstag 6 00 18 00 Uhr Freitag 6 00 17 00 Uhr Samstag 7 00 14 00 Uhr Sonn. u. Feiertage geschlossen Gratis WLAN für unsere Gäste Jeden Tag frische Fruchtwähen Impressum Datenschutz Cookie Richtlinie Sitemap Abmelden Bearbeiten\n"
     ]
    }
   ],
   "source": [
    "# remove all single characters\n",
    "processed_text = re.sub(r'\\s+[a-zA-Z]\\s+', ' ', processed_text)\n",
    "print(processed_text)"
   ]
  },
  {
   "cell_type": "code",
   "execution_count": 44,
   "metadata": {},
   "outputs": [
    {
     "name": "stdout",
     "output_type": "stream",
     "text": [
      "Caf Neumärt Home Über uns Warme Getränke Tee im Kännchen Kalte Getränke Frühstück Tages u. Wochenmenüs Kalte Speisen Warme Speisen Gla Süsses Galerie Wunschliste Gästebuch Weg zum Cafe Über die Gasse Kontakt Birchermüesli Birchermüesli klein mit Rahm Birchermüesli gross mit Rahm Fr. 5.30 Fr. 6.30 Fr. 9.50 Fr. 11.70 Salate Kleiner grüner Salat Kleiner Tomatensalat Kleiner gemischter Salat Grüner Salat mit Ei Tomaten und Spargelspitzen Salatteller mit verschiedenen Salaten und Ei garniert Salat Ni oise Fr. 5.90 Fr. 5.90 Fr. 7.90 Fr. 9.90 Fr. 15.90 Fr. 16.90 Sandwiches mit Hausbrot Ei Fleischkäse Käse Salami Schinken Spargeln Thon Rohschinken Fr. 6.90 Fr. 7.60 Canap Ei Fleischkäse Käse Salami Schinken Spargeln Thon Fr. 6.90 Cafe Neumärt Neumarkt 28 8001 Zürich Tel. 044 251 00 12 Öffnungszeiten Montag Donnerstag 6 00 18 00 Uhr Freitag 6 00 17 00 Uhr Samstag 7 00 14 00 Uhr Sonn. u. Feiertage geschlossen Gratis WLAN für unsere Gäste Jeden Tag frische Fruchtwähen Impressum Datenschutz Cookie Richtlinie Sitemap Abmelden Bearbeiten\n"
     ]
    }
   ],
   "source": [
    "# Remove single characters from the start\n",
    "processed_text = re.sub(r'\\^[a-zA-Z]\\s+', ' ', processed_text) \n",
    "print(processed_text)"
   ]
  },
  {
   "cell_type": "code",
   "execution_count": 45,
   "metadata": {},
   "outputs": [
    {
     "name": "stdout",
     "output_type": "stream",
     "text": [
      "Caf Neumärt Home Über uns Warme Getränke Tee im Kännchen Kalte Getränke Frühstück Tages u. Wochenmenüs Kalte Speisen Warme Speisen Gla Süsses Galerie Wunschliste Gästebuch Weg zum Cafe Über die Gasse Kontakt Birchermüesli Birchermüesli klein mit Rahm Birchermüesli gross mit Rahm Fr. 5.30 Fr. 6.30 Fr. 9.50 Fr. 11.70 Salate Kleiner grüner Salat Kleiner Tomatensalat Kleiner gemischter Salat Grüner Salat mit Ei Tomaten und Spargelspitzen Salatteller mit verschiedenen Salaten und Ei garniert Salat Ni oise Fr. 5.90 Fr. 5.90 Fr. 7.90 Fr. 9.90 Fr. 15.90 Fr. 16.90 Sandwiches mit Hausbrot Ei Fleischkäse Käse Salami Schinken Spargeln Thon Rohschinken Fr. 6.90 Fr. 7.60 Canap Ei Fleischkäse Käse Salami Schinken Spargeln Thon Fr. 6.90 Cafe Neumärt Neumarkt 28 8001 Zürich Tel. 044 251 00 12 Öffnungszeiten Montag Donnerstag 6 00 18 00 Uhr Freitag 6 00 17 00 Uhr Samstag 7 00 14 00 Uhr Sonn. u. Feiertage geschlossen Gratis WLAN für unsere Gäste Jeden Tag frische Fruchtwähen Impressum Datenschutz Cookie Richtlinie Sitemap Abmelden Bearbeiten\n"
     ]
    }
   ],
   "source": [
    "# Substituting multiple spaces with single space\n",
    "processed_text = re.sub(r'\\s+', ' ', processed_text, flags=re.I)\n",
    "print(processed_text)"
   ]
  },
  {
   "cell_type": "code",
   "execution_count": 33,
   "metadata": {},
   "outputs": [
    {
     "name": "stdout",
     "output_type": "stream",
     "text": [
      "Café Neumärt Home Über uns Warme Getränke Tee im Kännchen Kalte Getränke Frühstück Tages u. Wochenmenüs Kalte Speisen Warme Speisen Glaçe Süsses Galerie Wunschliste Gästebuch Weg zum Cafe Über die Gasse Kontakt Birchermüesli Birchermüesli klein mit Rahm Birchermüesli gross mit Rahm Fr. 5.30 Fr. 6.30 Fr. 9.50 Fr. 11.70 Salate Kleiner grüner Salat Kleiner Tomatensalat Kleiner gemischter Salat Grüner Salat mit Ei, Tomaten und Spargelspitzen Salatteller mit verschiedenen Salaten und Ei garniert Salat Niçoise Fr. 5.90 Fr. 5.90 Fr. 7.90 Fr. 9.90 Fr. 15.90 Fr. 16.90 Sandwiches (mit Hausbrot) Ei Fleischkäse Käse Salami Schinken Spargeln Thon Rohschinken Fr. 6.90 Fr. 7.60 Canapé Ei Fleischkäse Käse Salami Schinken Spargeln Thon Fr. 6.90 Cafe Neumärt Neumarkt 28 8001 Zürich Tel. 044 251 00 12 Öffnungszeiten Montag - Donnerstag 6:00 - 18:00 Uhr Freitag 6:00 - 17:00 Uhr Samstag 7:00 - 14:00 Uhr Sonn. u. Feiertage geschlossen ******************* Gratis WLAN für unsere Gäste ******************* Jeden Tag frische Fruchtwähen ******************* Impressum | Datenschutz | Cookie-Richtlinie | Sitemap Abmelden | Bearbeiten\n"
     ]
    }
   ],
   "source": [
    "# Converting to Lowercase\n",
    "#processed_text = processed_text.lower()\n",
    "print(processed_text)"
   ]
  },
  {
   "cell_type": "code",
   "execution_count": 46,
   "metadata": {},
   "outputs": [
    {
     "name": "stdout",
     "output_type": "stream",
     "text": [
      "['caf', 'neumart', 'hom', 'uber', 'uns', 'warm', 'trank', 'tee', 'im', 'kannch', 'kalt', 'trank', 'fruhstuck', 'tag', 'u.', 'wochenmenu', 'kalt', 'spei', 'warm', 'spei', 'gla', 'suss', 'galerie', 'wunschlist', 'gastebuch', 'weg', 'zum', 'caf', 'uber', 'die', 'gass', 'kontakt', 'birchermuesli', 'birchermuesli', 'klei', 'mit', 'rahm', 'birchermuesli', 'gross', 'mit', 'rahm', 'fr.', '5.30', 'fr.', '6.30', 'fr.', '9.50', 'fr.', '11.70', 'salat', 'klei', 'gru', 'salat', 'klei', 'tomatensalat', 'klei', 'misch', 'salat', 'gru', 'salat', 'mit', 'ei', 'tomat', 'und', 'spargelspitz', 'salattell', 'mit', 'verschied', 'salat', 'und', 'ei', 'garnier', 'salat', 'ni', 'ois', 'fr.', '5.90', 'fr.', '5.90', 'fr.', '7.90', 'fr.', '9.90', 'fr.', '15.90', 'fr.', '16.90', 'sandwich', 'mit', 'hausbrot', 'ei', 'fleischka', 'kas', 'salami', 'schink', 'spargel', 'tho', 'rohschink', 'fr.', '6.90', 'fr.', '7.60', 'canap', 'ei', 'fleischka', 'kas', 'salami', 'schink', 'spargel', 'tho', 'fr.', '6.90', 'caf', 'neumart', 'neumarkt', '28', '8001', 'zurich', 'tel.', '044', '251', '00', '12', 'offnungszeit', 'montag', 'donnerstag', '6', '00', '18', '00', 'uhr', 'freitag', '6', '00', '17', '00', 'uhr', 'samstag', '7', '00', '14', '00', 'uhr', 'sonn.', 'u.', 'feiertag', 'schloss', 'grati', 'wla', 'fur', 'unser', 'gast', 'jed', 'tag', 'frisch', 'fruchtwah', 'impressum', 'datenschutz', 'cookie', 'richtlinie', 'sitemap', 'abmeld', 'bearbeit']\n"
     ]
    }
   ],
   "source": [
    "# Stemming mit Cistem\n",
    "from nltk.stem.cistem import Cistem\n",
    "stemmer = Cistem()\n",
    "\n",
    "cistem_processed_text = [stemmer.stem(word) for word in processed_text.split()]\n",
    "\n",
    "print(cistem_processed_text)"
   ]
  },
  {
   "cell_type": "code",
   "execution_count": 47,
   "metadata": {},
   "outputs": [
    {
     "name": "stdout",
     "output_type": "stream",
     "text": [
      "['caf', 'neumart', 'hom', 'uber', 'uns', 'warm', 'getrank', 'tee', 'im', 'kannch', 'kalt', 'getrank', 'fruhstuck', 'tag', 'u.', 'wochenmenus', 'kalt', 'speis', 'warm', 'speis', 'gla', 'suss', 'galeri', 'wunschlist', 'gastebuch', 'weg', 'zum', 'caf', 'uber', 'die', 'gass', 'kontakt', 'birchermuesli', 'birchermuesli', 'klein', 'mit', 'rahm', 'birchermuesli', 'gross', 'mit', 'rahm', 'fr.', '5.30', 'fr.', '6.30', 'fr.', '9.50', 'fr.', '11.70', 'salat', 'klein', 'grun', 'salat', 'klein', 'tomatensalat', 'klein', 'gemischt', 'salat', 'grun', 'salat', 'mit', 'ei', 'tomat', 'und', 'spargelspitz', 'salattell', 'mit', 'verschied', 'salat', 'und', 'ei', 'garniert', 'salat', 'ni', 'ois', 'fr.', '5.90', 'fr.', '5.90', 'fr.', '7.90', 'fr.', '9.90', 'fr.', '15.90', 'fr.', '16.90', 'sandwich', 'mit', 'hausbrot', 'ei', 'fleischkas', 'kas', 'salami', 'schink', 'spargeln', 'thon', 'rohschink', 'fr.', '6.90', 'fr.', '7.60', 'canap', 'ei', 'fleischkas', 'kas', 'salami', 'schink', 'spargeln', 'thon', 'fr.', '6.90', 'caf', 'neumart', 'neumarkt', '28', '8001', 'zurich', 'tel.', '044', '251', '00', '12', 'offnungszeit', 'montag', 'donnerstag', '6', '00', '18', '00', 'uhr', 'freitag', '6', '00', '17', '00', 'uhr', 'samstag', '7', '00', '14', '00', 'uhr', 'sonn.', 'u.', 'feiertag', 'geschloss', 'gratis', 'wlan', 'fur', 'uns', 'gast', 'jed', 'tag', 'frisch', 'fruchtwah', 'impressum', 'datenschutz', 'cooki', 'richtlini', 'sitemap', 'abmeld', 'bearbeit']\n"
     ]
    }
   ],
   "source": [
    "# Stemming mit Snowball\n",
    "from nltk.stem.snowball import SnowballStemmer\n",
    "stemmer = SnowballStemmer('german')\n",
    "\n",
    "snowball_processed_text = [stemmer.stem(word) for word in processed_text.split()]\n",
    "\n",
    "print(snowball_processed_text)"
   ]
  },
  {
   "cell_type": "markdown",
   "metadata": {},
   "source": [
    "## Erkenntnisse zum Stemmer\n",
    "- Text wird automatisch tokeniziert\n",
    "- Punkte zwischen den Zahlen bei Preisen müssen excepted werden\n",
    "- Wortreduktionen müssen für Regeln nicht \"schön\" klingen (z.B. Speise wird je nach Stemmer auf \"speis\" oder \"spei\" reduziert)\n",
    "-  Die Wortreduktionen müssen für das Definieren von Regeln gesichtet werden\n",
    "  "
   ]
  }
 ],
 "metadata": {
  "kernelspec": {
   "display_name": "Python 3",
   "language": "python",
   "name": "python3"
  },
  "language_info": {
   "codemirror_mode": {
    "name": "ipython",
    "version": 3
   },
   "file_extension": ".py",
   "mimetype": "text/x-python",
   "name": "python",
   "nbconvert_exporter": "python",
   "pygments_lexer": "ipython3",
   "version": "3.7.1"
  }
 },
 "nbformat": 4,
 "nbformat_minor": 2
}
