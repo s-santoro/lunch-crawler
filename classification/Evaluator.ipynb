{
 "cells": [
  {
   "cell_type": "code",
   "execution_count": 1,
   "metadata": {
    "scrolled": true
   },
   "outputs": [
    {
     "name": "stderr",
     "output_type": "stream",
     "text": [
      "C:\\ProgramData\\Anaconda3\\lib\\site-packages\\pandas\\core\\indexing.py:189: SettingWithCopyWarning: \n",
      "A value is trying to be set on a copy of a slice from a DataFrame\n",
      "\n",
      "See the caveats in the documentation: http://pandas.pydata.org/pandas-docs/stable/indexing.html#indexing-view-versus-copy\n",
      "  self._setitem_with_indexer(indexer, value)\n"
     ]
    },
    {
     "name": "stdout",
     "output_type": "stream",
     "text": [
      "TP: 310\tFP: 88\n",
      "FN: 147\tTN: 478\n",
      "              precision    recall  f1-score   support\n",
      "\n",
      "           0       0.76      0.84      0.80       566\n",
      "           1       0.78      0.68      0.73       457\n",
      "\n",
      "   micro avg       0.77      0.77      0.77      1023\n",
      "   macro avg       0.77      0.76      0.76      1023\n",
      "weighted avg       0.77      0.77      0.77      1023\n",
      "\n"
     ]
    }
   ],
   "source": [
    "# Imports\n",
    "from luigi.contrib.spark import PySparkTask\n",
    "from luigi.parameter import IntParameter, DateSecondParameter\n",
    "from luigi import LocalTarget, Task, WrapperTask\n",
    "import datetime\n",
    "import pandas as pd\n",
    "from sklearn.metrics import classification_report, confusion_matrix, accuracy_score\n",
    "%run RulebasedClassifier.ipynb\n",
    "\n",
    "class Evaluator(Task):\n",
    "\n",
    "    # Date for Output-File prefix\n",
    "    from datetime import date, timedelta\n",
    "    date = DateSecondParameter(default=datetime.datetime.now())\n",
    "    \n",
    "    # Method to declare the Output-File\n",
    "    def output(self):\n",
    "        prefix = self.date.strftime(\"%Y-%m-%dT%H%M%S\")\n",
    "        return LocalTarget(\"data/%s_Evaluator_out.csv\" % prefix, format=UTF8)\n",
    "    \n",
    "    # Method to define the required Task (Preprocessor)\n",
    "    def requires(self):\n",
    "        return RulebasedClassifier()\n",
    "\n",
    "\n",
    "    # Classify the imported Data\n",
    "    def run(self):\n",
    "        df = pd.read_csv(self.input().path)\n",
    "        print('TP: %s\\tFP: %s\\nFN: %s\\tTN: %s'% self.calculateScore(df))\n",
    "        print(classification_report(df['specified'].values, df['predicted'].values))\n",
    "        \n",
    "        # Write .csv-File\n",
    "        with self.output().open(\"w\") as out:\n",
    "            df.to_csv(out, encoding=\"utf-8\")\n",
    "            \n",
    "    def calculateScore(self, df):\n",
    "        tp = 0\n",
    "        tn = 0\n",
    "        fp = 0\n",
    "        fn = 0\n",
    "        for index, document in df.iterrows():\n",
    "            if document.specified == 1 and document.predicted == 1:\n",
    "                tp+=1\n",
    "            elif document.specified == 0 and document.predicted == 1:\n",
    "                fp+=1\n",
    "            elif document.specified == 1 and document.predicted == 0:\n",
    "                fn+=1\n",
    "            else:\n",
    "                tn+=1\n",
    "        \n",
    "        return tp, fp, fn, tn\n",
    "            \n",
    "evaluator = Evaluator()\n",
    "evaluator.run()\n"
   ]
  },
  {
   "cell_type": "code",
   "execution_count": null,
   "metadata": {},
   "outputs": [],
   "source": []
  }
 ],
 "metadata": {
  "kernelspec": {
   "display_name": "Python 3",
   "language": "python",
   "name": "python3"
  },
  "language_info": {
   "codemirror_mode": {
    "name": "ipython",
    "version": 3
   },
   "file_extension": ".py",
   "mimetype": "text/x-python",
   "name": "python",
   "nbconvert_exporter": "python",
   "pygments_lexer": "ipython3",
   "version": "3.7.1"
  }
 },
 "nbformat": 4,
 "nbformat_minor": 2
}
