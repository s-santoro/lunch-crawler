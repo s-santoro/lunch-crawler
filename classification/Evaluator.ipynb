{
 "cells": [
  {
   "cell_type": "code",
   "execution_count": 16,
   "metadata": {
    "scrolled": true
   },
   "outputs": [
    {
     "name": "stdout",
     "output_type": "stream",
     "text": [
      "              precision    recall  f1-score   support\n",
      "\n",
      "           0       0.90      0.62      0.73       566\n",
      "           1       0.66      0.91      0.76       457\n",
      "\n",
      "   micro avg       0.75      0.75      0.75      1023\n",
      "   macro avg       0.78      0.76      0.75      1023\n",
      "weighted avg       0.79      0.75      0.75      1023\n",
      "\n",
      "[[350 216]\n",
      " [ 41 416]]\n",
      "True Positive: 350\tFalse Negative: 41\n",
      "False Positive: 216\tTrue Negative 416\n"
     ]
    }
   ],
   "source": [
    "# Imports\n",
    "from luigi.contrib.spark import PySparkTask\n",
    "from luigi.parameter import IntParameter, DateSecondParameter\n",
    "from luigi import LocalTarget, Task, WrapperTask\n",
    "import datetime\n",
    "import pandas as pd\n",
    "from sklearn.metrics import classification_report, confusion_matrix, accuracy_score\n",
    "%run RulebasedClassifier.ipynb\n",
    "\n",
    "class Evaluator(Task):\n",
    "\n",
    "    # Date for Output-File prefix\n",
    "    from datetime import date, timedelta\n",
    "    date = DateSecondParameter(default=datetime.datetime.now())\n",
    "    \n",
    "    # Method to declare the Output-File\n",
    "    def output(self):\n",
    "        prefix = self.date.strftime(\"%Y-%m-%dT%H%M%S\")\n",
    "        return LocalTarget(\"data/%s_Evaluator_out.csv\" % prefix, format=UTF8)\n",
    "    \n",
    "    # Method to define the required Task (Preprocessor)\n",
    "    def requires(self):\n",
    "        return RulebasedClassifier()\n",
    "\n",
    "\n",
    "    # Classify the imported Data\n",
    "    def run(self):\n",
    "        df = pd.read_csv(self.input().path)\n",
    "        \n",
    "        print(classification_report(df['specified'].values, df['predicted'].values))\n",
    "        confMatrix = confusion_matrix(df['specified'].values, df['predicted'].values)\n",
    "        tp = confMatrix[0][0]\n",
    "        fp = confMatrix[0][1]\n",
    "        tn = confMatrix[1][1]\n",
    "        fn = confMatrix[1][0]\n",
    "        print(confMatrix)\n",
    "        print('True Positive: %s\\tFalse Negative: %s'%(tp,fn))\n",
    "        print('False Positive: %s\\tTrue Negative %s'%(fp,tn))\n",
    "        \n",
    "        # Write .csv-File\n",
    "        with self.output().open(\"w\") as out:\n",
    "            df.to_csv(out, encoding=\"utf-8\")\n",
    "            \n",
    "\n",
    "\n",
    "evaluator = Evaluator()\n",
    "evaluator.run()\n"
   ]
  },
  {
   "cell_type": "code",
   "execution_count": null,
   "metadata": {},
   "outputs": [],
   "source": []
  }
 ],
 "metadata": {
  "kernelspec": {
   "display_name": "Python 3",
   "language": "python",
   "name": "python3"
  },
  "language_info": {
   "codemirror_mode": {
    "name": "ipython",
    "version": 3
   },
   "file_extension": ".py",
   "mimetype": "text/x-python",
   "name": "python",
   "nbconvert_exporter": "python",
   "pygments_lexer": "ipython3",
   "version": "3.7.1"
  }
 },
 "nbformat": 4,
 "nbformat_minor": 2
}
