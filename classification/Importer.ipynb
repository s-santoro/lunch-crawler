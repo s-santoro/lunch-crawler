{
 "cells": [
  {
   "cell_type": "code",
   "execution_count": 1,
   "metadata": {
    "scrolled": true
   },
   "outputs": [],
   "source": [
    "# Imports\n",
    "from luigi.contrib.spark import PySparkTask\n",
    "from luigi.parameter import IntParameter, DateSecondParameter\n",
    "from luigi import LocalTarget, Task, WrapperTask\n",
    "from os import listdir\n",
    "import pandas as pd\n",
    "from luigi.format import UTF8\n",
    "import datetime\n",
    "\n",
    "\n",
    "class Importer(Task):\n",
    "    \n",
    "    # Date for Output-File prefix\n",
    "    from datetime import date, timedelta\n",
    "    date = DateSecondParameter(default=datetime.datetime.now())\n",
    "    #date = datetime.datetime.now()\n",
    "    \n",
    "    # Method to declare the Output-File\n",
    "    def output(self):\n",
    "        prefix = self.date.strftime(\"%Y-%m-%dT%H%M%S\")\n",
    "        return LocalTarget(\"data/%s_Importer_out.csv\" % prefix, format=UTF8)\n",
    "    \n",
    "    # Method to generate the Output-File\n",
    "    def run(self):\n",
    "\n",
    "        # Load all negative Files into Array\n",
    "        neg_filenames = [f for f in listdir(\"./files/neg\")]\n",
    "        neg_files = []\n",
    "        for filename in neg_filenames:\n",
    "            filepath = \"./files/neg/\"+filename\n",
    "            neg_files.append(pd.read_json(filepath, typ=\"series\", encoding='utf-8-sig'))\n",
    "            \n",
    "        # Load all positive Files into Array\n",
    "        pos_filenames = [f for f in listdir(\"./files/pos\")]\n",
    "        pos_files = []\n",
    "        for filename in pos_filenames:\n",
    "            filepath = \"./files/pos/\"+filename\n",
    "            pos_files.append(pd.read_json(filepath, typ=\"series\", encoding='utf-8-sig'))\n",
    "        \n",
    "        # Load negative Array into Dataframe and add Column with \"0\" for beeing negative Example\n",
    "        neg_df = pd.DataFrame.from_dict(neg_files)\n",
    "        neg_df['Class']='0'\n",
    "        \n",
    "        # Load positive Array into Dataframe and add Column with \"1\" for beeing positive Example\n",
    "        pos_df = pd.DataFrame.from_dict(pos_files)\n",
    "        pos_df['Class']='1'\n",
    "        \n",
    "        # Merge the Dataframes from above\n",
    "        df = pd.concat([neg_df, pos_df])\n",
    "        \n",
    "        # Write .csv-File\n",
    "        with self.output().open(\"w\") as out:\n",
    "            df.to_csv(out, encoding=\"utf-8\")\n",
    "        \n",
    "importer = Importer()\n",
    "importer.run()"
   ]
  },
  {
   "cell_type": "code",
   "execution_count": null,
   "metadata": {},
   "outputs": [],
   "source": []
  },
  {
   "cell_type": "code",
   "execution_count": null,
   "metadata": {},
   "outputs": [],
   "source": []
  }
 ],
 "metadata": {
  "kernelspec": {
   "display_name": "Python 3",
   "language": "python",
   "name": "python3"
  },
  "language_info": {
   "codemirror_mode": {
    "name": "ipython",
    "version": 3
   },
   "file_extension": ".py",
   "mimetype": "text/x-python",
   "name": "python",
   "nbconvert_exporter": "python",
   "pygments_lexer": "ipython3",
   "version": "3.7.1"
  }
 },
 "nbformat": 4,
 "nbformat_minor": 2
}
