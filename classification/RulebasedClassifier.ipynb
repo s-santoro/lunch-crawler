{
 "cells": [
  {
   "cell_type": "code",
   "execution_count": 17,
   "metadata": {},
   "outputs": [],
   "source": [
    "# Imports\n",
    "from luigi.contrib.spark import PySparkTask\n",
    "from luigi.parameter import IntParameter, DateSecondParameter\n",
    "from luigi import LocalTarget, Task, WrapperTask\n",
    "import datetime\n",
    "import pandas as pd\n",
    "import re\n",
    "%run Preprocessor.ipynb\n",
    "\n",
    "class RulebasedClassifier(Task):\n",
    "\n",
    "    # Date for Output-File prefix\n",
    "    from datetime import date, timedelta\n",
    "    date = DateSecondParameter(default=datetime.datetime.now())\n",
    "    \n",
    "    # Method to declare the Output-File\n",
    "    def output(self):\n",
    "        prefix = self.date.strftime(\"%Y-%m-%dT%H%M%S\")\n",
    "        return LocalTarget(\"data/%s_Classifier_out.csv\" % prefix, format=UTF8)\n",
    "    \n",
    "    # Method to define the required Task (Preprocessor)\n",
    "    def requires(self):\n",
    "        return Preprocessor()\n",
    "\n",
    "\n",
    "    # Classify the imported Data\n",
    "    def run(self):\n",
    "        df = pd.read_csv(self.input().path)\n",
    "        output_df = pd.DataFrame(columns=('specified', 'predicted'))\n",
    "        output_df['specified'] = df['class'].values\n",
    "        \n",
    "        for index, document in df.iterrows():\n",
    "            value = self.simpleTitleMenuFinder(document.text)\n",
    "            output_df['predicted'].iloc[index] = value            \n",
    "        \n",
    "        # Write .csv-File\n",
    "        with self.output().open(\"w\") as out:\n",
    "            output_df.to_csv(out, encoding=\"utf-8\")\n",
    "            \n",
    "    def simpleTitleMenuFinder(self, text):\n",
    "        if 'priceentity' in text:\n",
    "            return 1\n",
    "        else:\n",
    "            return 0\n",
    "    \n",
    "rbclassifier = RulebasedClassifier()\n",
    "rbclassifier.run()\n"
   ]
  },
  {
   "cell_type": "code",
   "execution_count": null,
   "metadata": {},
   "outputs": [],
   "source": []
  }
 ],
 "metadata": {
  "kernelspec": {
   "display_name": "Python 3",
   "language": "python",
   "name": "python3"
  },
  "language_info": {
   "codemirror_mode": {
    "name": "ipython",
    "version": 3
   },
   "file_extension": ".py",
   "mimetype": "text/x-python",
   "name": "python",
   "nbconvert_exporter": "python",
   "pygments_lexer": "ipython3",
   "version": "3.7.1"
  }
 },
 "nbformat": 4,
 "nbformat_minor": 2
}
