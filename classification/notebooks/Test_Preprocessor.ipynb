{
 "cells": [
  {
   "cell_type": "code",
   "execution_count": 2,
   "metadata": {
    "scrolled": false
   },
   "outputs": [
    {
     "ename": "FileNotFoundError",
     "evalue": "File b'data/2019-03-20T1404_Importer_out.csv' does not exist",
     "output_type": "error",
     "traceback": [
      "\u001b[1;31m---------------------------------------------------------------------------\u001b[0m",
      "\u001b[1;31mFileNotFoundError\u001b[0m                         Traceback (most recent call last)",
      "\u001b[1;32m<ipython-input-2-a8a3e53f8883>\u001b[0m in \u001b[0;36m<module>\u001b[1;34m\u001b[0m\n\u001b[0;32m      4\u001b[0m \u001b[1;33m\u001b[0m\u001b[0m\n\u001b[0;32m      5\u001b[0m \u001b[1;33m\u001b[0m\u001b[0m\n\u001b[1;32m----> 6\u001b[1;33m \u001b[0mdata\u001b[0m \u001b[1;33m=\u001b[0m \u001b[0mpd\u001b[0m\u001b[1;33m.\u001b[0m\u001b[0mread_csv\u001b[0m\u001b[1;33m(\u001b[0m\u001b[1;34m'data/2019-03-20T1404_Importer_out.csv'\u001b[0m\u001b[1;33m)\u001b[0m\u001b[1;33m\u001b[0m\u001b[1;33m\u001b[0m\u001b[0m\n\u001b[0m\u001b[0;32m      7\u001b[0m \u001b[0mprint\u001b[0m\u001b[1;33m(\u001b[0m\u001b[0mdata\u001b[0m\u001b[1;33m.\u001b[0m\u001b[0mtail\u001b[0m\u001b[1;33m(\u001b[0m\u001b[1;33m)\u001b[0m\u001b[1;33m)\u001b[0m\u001b[1;33m\u001b[0m\u001b[1;33m\u001b[0m\u001b[0m\n",
      "\u001b[1;32mC:\\ProgramData\\Anaconda3\\lib\\site-packages\\pandas\\io\\parsers.py\u001b[0m in \u001b[0;36mparser_f\u001b[1;34m(filepath_or_buffer, sep, delimiter, header, names, index_col, usecols, squeeze, prefix, mangle_dupe_cols, dtype, engine, converters, true_values, false_values, skipinitialspace, skiprows, nrows, na_values, keep_default_na, na_filter, verbose, skip_blank_lines, parse_dates, infer_datetime_format, keep_date_col, date_parser, dayfirst, iterator, chunksize, compression, thousands, decimal, lineterminator, quotechar, quoting, escapechar, comment, encoding, dialect, tupleize_cols, error_bad_lines, warn_bad_lines, skipfooter, doublequote, delim_whitespace, low_memory, memory_map, float_precision)\u001b[0m\n\u001b[0;32m    676\u001b[0m                     skip_blank_lines=skip_blank_lines)\n\u001b[0;32m    677\u001b[0m \u001b[1;33m\u001b[0m\u001b[0m\n\u001b[1;32m--> 678\u001b[1;33m         \u001b[1;32mreturn\u001b[0m \u001b[0m_read\u001b[0m\u001b[1;33m(\u001b[0m\u001b[0mfilepath_or_buffer\u001b[0m\u001b[1;33m,\u001b[0m \u001b[0mkwds\u001b[0m\u001b[1;33m)\u001b[0m\u001b[1;33m\u001b[0m\u001b[1;33m\u001b[0m\u001b[0m\n\u001b[0m\u001b[0;32m    679\u001b[0m \u001b[1;33m\u001b[0m\u001b[0m\n\u001b[0;32m    680\u001b[0m     \u001b[0mparser_f\u001b[0m\u001b[1;33m.\u001b[0m\u001b[0m__name__\u001b[0m \u001b[1;33m=\u001b[0m \u001b[0mname\u001b[0m\u001b[1;33m\u001b[0m\u001b[1;33m\u001b[0m\u001b[0m\n",
      "\u001b[1;32mC:\\ProgramData\\Anaconda3\\lib\\site-packages\\pandas\\io\\parsers.py\u001b[0m in \u001b[0;36m_read\u001b[1;34m(filepath_or_buffer, kwds)\u001b[0m\n\u001b[0;32m    438\u001b[0m \u001b[1;33m\u001b[0m\u001b[0m\n\u001b[0;32m    439\u001b[0m     \u001b[1;31m# Create the parser.\u001b[0m\u001b[1;33m\u001b[0m\u001b[1;33m\u001b[0m\u001b[1;33m\u001b[0m\u001b[0m\n\u001b[1;32m--> 440\u001b[1;33m     \u001b[0mparser\u001b[0m \u001b[1;33m=\u001b[0m \u001b[0mTextFileReader\u001b[0m\u001b[1;33m(\u001b[0m\u001b[0mfilepath_or_buffer\u001b[0m\u001b[1;33m,\u001b[0m \u001b[1;33m**\u001b[0m\u001b[0mkwds\u001b[0m\u001b[1;33m)\u001b[0m\u001b[1;33m\u001b[0m\u001b[1;33m\u001b[0m\u001b[0m\n\u001b[0m\u001b[0;32m    441\u001b[0m \u001b[1;33m\u001b[0m\u001b[0m\n\u001b[0;32m    442\u001b[0m     \u001b[1;32mif\u001b[0m \u001b[0mchunksize\u001b[0m \u001b[1;32mor\u001b[0m \u001b[0miterator\u001b[0m\u001b[1;33m:\u001b[0m\u001b[1;33m\u001b[0m\u001b[1;33m\u001b[0m\u001b[0m\n",
      "\u001b[1;32mC:\\ProgramData\\Anaconda3\\lib\\site-packages\\pandas\\io\\parsers.py\u001b[0m in \u001b[0;36m__init__\u001b[1;34m(self, f, engine, **kwds)\u001b[0m\n\u001b[0;32m    785\u001b[0m             \u001b[0mself\u001b[0m\u001b[1;33m.\u001b[0m\u001b[0moptions\u001b[0m\u001b[1;33m[\u001b[0m\u001b[1;34m'has_index_names'\u001b[0m\u001b[1;33m]\u001b[0m \u001b[1;33m=\u001b[0m \u001b[0mkwds\u001b[0m\u001b[1;33m[\u001b[0m\u001b[1;34m'has_index_names'\u001b[0m\u001b[1;33m]\u001b[0m\u001b[1;33m\u001b[0m\u001b[1;33m\u001b[0m\u001b[0m\n\u001b[0;32m    786\u001b[0m \u001b[1;33m\u001b[0m\u001b[0m\n\u001b[1;32m--> 787\u001b[1;33m         \u001b[0mself\u001b[0m\u001b[1;33m.\u001b[0m\u001b[0m_make_engine\u001b[0m\u001b[1;33m(\u001b[0m\u001b[0mself\u001b[0m\u001b[1;33m.\u001b[0m\u001b[0mengine\u001b[0m\u001b[1;33m)\u001b[0m\u001b[1;33m\u001b[0m\u001b[1;33m\u001b[0m\u001b[0m\n\u001b[0m\u001b[0;32m    788\u001b[0m \u001b[1;33m\u001b[0m\u001b[0m\n\u001b[0;32m    789\u001b[0m     \u001b[1;32mdef\u001b[0m \u001b[0mclose\u001b[0m\u001b[1;33m(\u001b[0m\u001b[0mself\u001b[0m\u001b[1;33m)\u001b[0m\u001b[1;33m:\u001b[0m\u001b[1;33m\u001b[0m\u001b[1;33m\u001b[0m\u001b[0m\n",
      "\u001b[1;32mC:\\ProgramData\\Anaconda3\\lib\\site-packages\\pandas\\io\\parsers.py\u001b[0m in \u001b[0;36m_make_engine\u001b[1;34m(self, engine)\u001b[0m\n\u001b[0;32m   1012\u001b[0m     \u001b[1;32mdef\u001b[0m \u001b[0m_make_engine\u001b[0m\u001b[1;33m(\u001b[0m\u001b[0mself\u001b[0m\u001b[1;33m,\u001b[0m \u001b[0mengine\u001b[0m\u001b[1;33m=\u001b[0m\u001b[1;34m'c'\u001b[0m\u001b[1;33m)\u001b[0m\u001b[1;33m:\u001b[0m\u001b[1;33m\u001b[0m\u001b[1;33m\u001b[0m\u001b[0m\n\u001b[0;32m   1013\u001b[0m         \u001b[1;32mif\u001b[0m \u001b[0mengine\u001b[0m \u001b[1;33m==\u001b[0m \u001b[1;34m'c'\u001b[0m\u001b[1;33m:\u001b[0m\u001b[1;33m\u001b[0m\u001b[1;33m\u001b[0m\u001b[0m\n\u001b[1;32m-> 1014\u001b[1;33m             \u001b[0mself\u001b[0m\u001b[1;33m.\u001b[0m\u001b[0m_engine\u001b[0m \u001b[1;33m=\u001b[0m \u001b[0mCParserWrapper\u001b[0m\u001b[1;33m(\u001b[0m\u001b[0mself\u001b[0m\u001b[1;33m.\u001b[0m\u001b[0mf\u001b[0m\u001b[1;33m,\u001b[0m \u001b[1;33m**\u001b[0m\u001b[0mself\u001b[0m\u001b[1;33m.\u001b[0m\u001b[0moptions\u001b[0m\u001b[1;33m)\u001b[0m\u001b[1;33m\u001b[0m\u001b[1;33m\u001b[0m\u001b[0m\n\u001b[0m\u001b[0;32m   1015\u001b[0m         \u001b[1;32melse\u001b[0m\u001b[1;33m:\u001b[0m\u001b[1;33m\u001b[0m\u001b[1;33m\u001b[0m\u001b[0m\n\u001b[0;32m   1016\u001b[0m             \u001b[1;32mif\u001b[0m \u001b[0mengine\u001b[0m \u001b[1;33m==\u001b[0m \u001b[1;34m'python'\u001b[0m\u001b[1;33m:\u001b[0m\u001b[1;33m\u001b[0m\u001b[1;33m\u001b[0m\u001b[0m\n",
      "\u001b[1;32mC:\\ProgramData\\Anaconda3\\lib\\site-packages\\pandas\\io\\parsers.py\u001b[0m in \u001b[0;36m__init__\u001b[1;34m(self, src, **kwds)\u001b[0m\n\u001b[0;32m   1706\u001b[0m         \u001b[0mkwds\u001b[0m\u001b[1;33m[\u001b[0m\u001b[1;34m'usecols'\u001b[0m\u001b[1;33m]\u001b[0m \u001b[1;33m=\u001b[0m \u001b[0mself\u001b[0m\u001b[1;33m.\u001b[0m\u001b[0musecols\u001b[0m\u001b[1;33m\u001b[0m\u001b[1;33m\u001b[0m\u001b[0m\n\u001b[0;32m   1707\u001b[0m \u001b[1;33m\u001b[0m\u001b[0m\n\u001b[1;32m-> 1708\u001b[1;33m         \u001b[0mself\u001b[0m\u001b[1;33m.\u001b[0m\u001b[0m_reader\u001b[0m \u001b[1;33m=\u001b[0m \u001b[0mparsers\u001b[0m\u001b[1;33m.\u001b[0m\u001b[0mTextReader\u001b[0m\u001b[1;33m(\u001b[0m\u001b[0msrc\u001b[0m\u001b[1;33m,\u001b[0m \u001b[1;33m**\u001b[0m\u001b[0mkwds\u001b[0m\u001b[1;33m)\u001b[0m\u001b[1;33m\u001b[0m\u001b[1;33m\u001b[0m\u001b[0m\n\u001b[0m\u001b[0;32m   1709\u001b[0m \u001b[1;33m\u001b[0m\u001b[0m\n\u001b[0;32m   1710\u001b[0m         \u001b[0mpassed_names\u001b[0m \u001b[1;33m=\u001b[0m \u001b[0mself\u001b[0m\u001b[1;33m.\u001b[0m\u001b[0mnames\u001b[0m \u001b[1;32mis\u001b[0m \u001b[1;32mNone\u001b[0m\u001b[1;33m\u001b[0m\u001b[1;33m\u001b[0m\u001b[0m\n",
      "\u001b[1;32mpandas\\_libs\\parsers.pyx\u001b[0m in \u001b[0;36mpandas._libs.parsers.TextReader.__cinit__\u001b[1;34m()\u001b[0m\n",
      "\u001b[1;32mpandas\\_libs\\parsers.pyx\u001b[0m in \u001b[0;36mpandas._libs.parsers.TextReader._setup_parser_source\u001b[1;34m()\u001b[0m\n",
      "\u001b[1;31mFileNotFoundError\u001b[0m: File b'data/2019-03-20T1404_Importer_out.csv' does not exist"
     ]
    }
   ],
   "source": [
    "import pandas as pd\n",
    "import numpy as np  \n",
    "import re  \n",
    "\n",
    "\n",
    "data = pd.read_csv('../data/2019-03-20T1404_Importer_out.csv')\n",
    "print(data.tail())"
   ]
  },
  {
   "cell_type": "code",
   "execution_count": 56,
   "metadata": {},
   "outputs": [
    {
     "name": "stdout",
     "output_type": "stream",
     "text": [
      "Café Neumärt Home Über uns Warme Getränke Tee im Kännchen Kalte Getränke Frühstück Tages u. Wochenmenüs Kalte Speisen Warme Speisen Glaçe Süsses Galerie Wunschliste Gästebuch Weg zum Cafe Über die Gasse Kontakt Birchermüesli Birchermüesli klein mit Rahm Birchermüesli gross mit Rahm Fr. 5.30 Fr. 6.30 Fr. 9.50 Fr. 11.70 Salate Kleiner grüner Salat Kleiner Tomatensalat Kleiner gemischter Salat Grüner Salat mit Ei, Tomaten und Spargelspitzen Salatteller mit verschiedenen Salaten und Ei garniert Salat Niçoise Fr. 5.90 Fr. 5.90 Fr. 7.90 Fr. 9.90 Fr. 15.90 Fr. 16.90 Sandwiches (mit Hausbrot) Ei Fleischkäse Käse Salami Schinken Spargeln Thon Rohschinken Fr. 6.90 Fr. 7.60 Canapé Ei Fleischkäse Käse Salami Schinken Spargeln Thon Fr. 6.90 Cafe Neumärt Neumarkt 28 8001 Zürich Tel. 044 251 00 12 Öffnungszeiten Montag - Donnerstag 6:00 - 18:00 Uhr Freitag 6:00 - 17:00 Uhr Samstag 7:00 - 14:00 Uhr Sonn. u. Feiertage geschlossen ******************* Gratis WLAN für unsere Gäste ******************* Jeden Tag frische Fruchtwähen ******************* Impressum | Datenschutz | Cookie-Richtlinie | Sitemap Abmelden | Bearbeiten\n"
     ]
    }
   ],
   "source": [
    "raw_text = data['text'].iloc[500]\n",
    "\n",
    "print(raw_text)"
   ]
  },
  {
   "cell_type": "markdown",
   "metadata": {},
   "source": [
    "# Preprocessing"
   ]
  },
  {
   "cell_type": "code",
   "execution_count": 64,
   "metadata": {
    "scrolled": false
   },
   "outputs": [
    {
     "name": "stdout",
     "output_type": "stream",
     "text": [
      "Caf Neumärt Home Über uns Warme Getränke Tee im Kännchen Kalte Getränke Frühstück Tages u. Wochenmenüs Kalte Speisen Warme Speisen Gla e Süsses Galerie Wunschliste Gästebuch Weg zum Cafe Über die Gasse Kontakt Birchermüesli Birchermüesli klein mit Rahm Birchermüesli gross mit Rahm Fr. 5.30 Fr. 6.30 Fr. 9.50 Fr. 11.70 Salate Kleiner grüner Salat Kleiner Tomatensalat Kleiner gemischter Salat Grüner Salat mit Ei Tomaten und Spargelspitzen Salatteller mit verschiedenen Salaten und Ei garniert Salat Ni oise Fr. 5.90 Fr. 5.90 Fr. 7.90 Fr. 9.90 Fr. 15.90 Fr. 16.90 Sandwiches mit Hausbrot Ei Fleischkäse Käse Salami Schinken Spargeln Thon Rohschinken Fr. 6.90 Fr. 7.60 Canap Ei Fleischkäse Käse Salami Schinken Spargeln Thon Fr. 6.90 Cafe Neumärt Neumarkt 28 8001 Zürich Tel. 044 251 00 12 Öffnungszeiten Montag Donnerstag 6 00 18 00 Uhr Freitag 6 00 17 00 Uhr Samstag 7 00 14 00 Uhr Sonn. u. Feiertage geschlossen Gratis WLAN für unsere Gäste Jeden Tag frische Fruchtwähen Impressum Datenschutz Cookie Richtlinie Sitemap Abmelden Bearbeiten\n"
     ]
    }
   ],
   "source": [
    "# Remove all the special characters\n",
    "processed_text = re.sub(r'[^äöüÄÖÜa-zA-Z0-9\\.]+', ' ', str(raw_text))\n",
    "\n",
    "# processed_text = re.sub(r'\\W', ' ', str(raw_text))   --> Alternative: Alle Special caracters löschen, auch punkte zwischen Zahlen\n",
    "print(processed_text)\n",
    "\n",
    "# Punkte zwischen Zahlen???"
   ]
  },
  {
   "cell_type": "code",
   "execution_count": 50,
   "metadata": {},
   "outputs": [
    {
     "name": "stdout",
     "output_type": "stream",
     "text": [
      "CUCINA PICCANTE RESTAURANT TAKE AWAY CAF Wochenmenü 11. März bis 15. März Montag Rigatoni Pasta mit Bolognese CH Rind Kartoffelscheiben mit frischen Artischocken aus dem Ofen Dienstag Pollo CH Poulet alla diavola mit Kartoffeln und Peperoni aus dem Ofen Pizzoccheri mit Rüebli Wirz Spinat Mittwoch Scaloppine vom CH Säuli al marsala mit Risotto al parmigiano Gnocchetti Pasta alle verdure Donnerstag Polpette dreierlei CH al vino bianco mit Kartoffelstampf Pasta mit frischen Spargeln an Safransauce Freitag Qurma Koscht afgh. Rindsvoressen mit Reis CH Rind Lachsfilet aus dem Ofen mit gewürfelten Kartoffeln und Spargeln Freitagspasta Samstag Es gibt Zmorge frischen Zopf auch über die Gasse zu kaufen Mittagsmenüs und feine Desserts... Kontakt Kempttalstrasse 8 8330 Pfäffikon Karte auf Google Maps info cucinapiccante.ch 043 288 87 13 Öffnungszeiten Montag bis Freitag 8 bis 17 Uhr Samstag 8 bis 16 Uhr Reservationen bitte telefonisch\n"
     ]
    }
   ],
   "source": [
    "# remove all single characters\n",
    "processed_text = re.sub(r'\\s+[a-zA-Z]\\s+', ' ', processed_text)\n",
    "print(processed_text)"
   ]
  },
  {
   "cell_type": "code",
   "execution_count": 51,
   "metadata": {},
   "outputs": [
    {
     "name": "stdout",
     "output_type": "stream",
     "text": [
      "CUCINA PICCANTE RESTAURANT TAKE AWAY CAF Wochenmenü 11. März bis 15. März Montag Rigatoni Pasta mit Bolognese CH Rind Kartoffelscheiben mit frischen Artischocken aus dem Ofen Dienstag Pollo CH Poulet alla diavola mit Kartoffeln und Peperoni aus dem Ofen Pizzoccheri mit Rüebli Wirz Spinat Mittwoch Scaloppine vom CH Säuli al marsala mit Risotto al parmigiano Gnocchetti Pasta alle verdure Donnerstag Polpette dreierlei CH al vino bianco mit Kartoffelstampf Pasta mit frischen Spargeln an Safransauce Freitag Qurma Koscht afgh. Rindsvoressen mit Reis CH Rind Lachsfilet aus dem Ofen mit gewürfelten Kartoffeln und Spargeln Freitagspasta Samstag Es gibt Zmorge frischen Zopf auch über die Gasse zu kaufen Mittagsmenüs und feine Desserts... Kontakt Kempttalstrasse 8 8330 Pfäffikon Karte auf Google Maps info cucinapiccante.ch 043 288 87 13 Öffnungszeiten Montag bis Freitag 8 bis 17 Uhr Samstag 8 bis 16 Uhr Reservationen bitte telefonisch\n"
     ]
    }
   ],
   "source": [
    "# Remove single characters from the start\n",
    "processed_text = re.sub(r'\\^[a-zA-Z]\\s+', ' ', processed_text) \n",
    "print(processed_text)"
   ]
  },
  {
   "cell_type": "code",
   "execution_count": 52,
   "metadata": {},
   "outputs": [
    {
     "name": "stdout",
     "output_type": "stream",
     "text": [
      "CUCINA PICCANTE RESTAURANT TAKE AWAY CAF Wochenmenü 11. März bis 15. März Montag Rigatoni Pasta mit Bolognese CH Rind Kartoffelscheiben mit frischen Artischocken aus dem Ofen Dienstag Pollo CH Poulet alla diavola mit Kartoffeln und Peperoni aus dem Ofen Pizzoccheri mit Rüebli Wirz Spinat Mittwoch Scaloppine vom CH Säuli al marsala mit Risotto al parmigiano Gnocchetti Pasta alle verdure Donnerstag Polpette dreierlei CH al vino bianco mit Kartoffelstampf Pasta mit frischen Spargeln an Safransauce Freitag Qurma Koscht afgh. Rindsvoressen mit Reis CH Rind Lachsfilet aus dem Ofen mit gewürfelten Kartoffeln und Spargeln Freitagspasta Samstag Es gibt Zmorge frischen Zopf auch über die Gasse zu kaufen Mittagsmenüs und feine Desserts... Kontakt Kempttalstrasse 8 8330 Pfäffikon Karte auf Google Maps info cucinapiccante.ch 043 288 87 13 Öffnungszeiten Montag bis Freitag 8 bis 17 Uhr Samstag 8 bis 16 Uhr Reservationen bitte telefonisch\n"
     ]
    }
   ],
   "source": [
    "# Substituting multiple spaces with single space\n",
    "processed_text = re.sub(r'\\s+', ' ', processed_text, flags=re.I)\n",
    "print(processed_text)"
   ]
  },
  {
   "cell_type": "code",
   "execution_count": 53,
   "metadata": {},
   "outputs": [
    {
     "name": "stdout",
     "output_type": "stream",
     "text": [
      "CUCINA PICCANTE RESTAURANT TAKE AWAY CAF Wochenmenü 11. März bis 15. März Montag Rigatoni Pasta mit Bolognese CH Rind Kartoffelscheiben mit frischen Artischocken aus dem Ofen Dienstag Pollo CH Poulet alla diavola mit Kartoffeln und Peperoni aus dem Ofen Pizzoccheri mit Rüebli Wirz Spinat Mittwoch Scaloppine vom CH Säuli al marsala mit Risotto al parmigiano Gnocchetti Pasta alle verdure Donnerstag Polpette dreierlei CH al vino bianco mit Kartoffelstampf Pasta mit frischen Spargeln an Safransauce Freitag Qurma Koscht afgh. Rindsvoressen mit Reis CH Rind Lachsfilet aus dem Ofen mit gewürfelten Kartoffeln und Spargeln Freitagspasta Samstag Es gibt Zmorge frischen Zopf auch über die Gasse zu kaufen Mittagsmenüs und feine Desserts... Kontakt Kempttalstrasse 8 8330 Pfäffikon Karte auf Google Maps info cucinapiccante.ch 043 288 87 13 Öffnungszeiten Montag bis Freitag 8 bis 17 Uhr Samstag 8 bis 16 Uhr Reservationen bitte telefonisch\n"
     ]
    }
   ],
   "source": [
    "# Converting to Lowercase\n",
    "#processed_text = processed_text.lower()\n",
    "print(processed_text)"
   ]
  },
  {
   "cell_type": "code",
   "execution_count": 54,
   "metadata": {},
   "outputs": [
    {
     "name": "stdout",
     "output_type": "stream",
     "text": [
      "['cucina', 'piccant', 'restaurant', 'tak', 'away', 'caf', 'wochenmenu', '11.', 'marz', 'bis', '15.', 'marz', 'montag', 'rigatoni', 'pasta', 'mit', 'bolog', 'ch', 'rind', 'kartoffelscheib', 'mit', 'frisch', 'artischock', 'aus', 'dem', 'ofe', 'dienstag', 'pollo', 'ch', 'poulet', 'alla', 'diavola', 'mit', 'kartoffel', 'und', 'peperoni', 'aus', 'dem', 'ofe', 'pizzoccheri', 'mit', 'ruebli', 'wirz', 'spinat', 'mittwoch', 'scaloppi', 'vom', 'ch', 'sauli', 'al', 'marsala', 'mit', 'risotto', 'al', 'parmigiano', 'gnocchetti', 'pasta', 'all', 'verdur', 'donnerstag', 'polpett', 'dreierlei', 'ch', 'al', 'vino', 'bianco', 'mit', 'kartoffelstampf', 'pasta', 'mit', 'frisch', 'spargel', 'an', 'safransauc', 'freitag', 'qurma', 'koscht', 'afgh.', 'rindsvoress', 'mit', 'reis', 'ch', 'rind', 'lachsfilet', 'aus', 'dem', 'ofe', 'mit', 'wurfel', 'kartoffel', 'und', 'spargel', 'freitagspasta', 'samstag', 'es', 'gib', 'zmorg', 'frisch', 'zopf', 'auch', 'uber', 'die', 'gass', 'zu', 'kauf', 'mittagsmenu', 'und', 'fein', 'desserts...', 'kontakt', 'kempttalstrass', '8', '8330', 'pfaffiko', 'kart', 'auf', 'googl', 'map', 'info', 'cucinapiccante.ch', '043', '288', '87', '13', 'offnungszeit', 'montag', 'bis', 'freitag', '8', 'bis', '17', 'uhr', 'samstag', '8', 'bis', '16', 'uhr', 'reservatio', 'bitt', 'telefonisch']\n"
     ]
    }
   ],
   "source": [
    "# Stemming mit Cistem\n",
    "from nltk.stem.cistem import Cistem\n",
    "stemmer = Cistem()\n",
    "\n",
    "cistem_processed_text = [stemmer.stem(word) for word in processed_text.split()]\n",
    "\n",
    "print(cistem_processed_text)"
   ]
  },
  {
   "cell_type": "code",
   "execution_count": 55,
   "metadata": {},
   "outputs": [
    {
     "name": "stdout",
     "output_type": "stream",
     "text": [
      "['cucina', 'piccant', 'restaurant', 'tak', 'away', 'caf', 'wochenmenu', '11.', 'marz', 'bis', '15.', 'marz', 'montag', 'rigatoni', 'pasta', 'mit', 'bolognes', 'ch', 'rind', 'kartoffelscheib', 'mit', 'frisch', 'artischock', 'aus', 'dem', 'ofen', 'dienstag', 'pollo', 'ch', 'poulet', 'alla', 'diavola', 'mit', 'kartoffeln', 'und', 'peperoni', 'aus', 'dem', 'ofen', 'pizzoccheri', 'mit', 'ruebli', 'wirz', 'spinat', 'mittwoch', 'scaloppin', 'vom', 'ch', 'sauli', 'al', 'marsala', 'mit', 'risotto', 'al', 'parmigiano', 'gnocchetti', 'pasta', 'all', 'verdur', 'donnerstag', 'polpett', 'dreierlei', 'ch', 'al', 'vino', 'bianco', 'mit', 'kartoffelstampf', 'pasta', 'mit', 'frisch', 'spargeln', 'an', 'safransauc', 'freitag', 'qurma', 'koscht', 'afgh.', 'rindsvoress', 'mit', 'reis', 'ch', 'rind', 'lachsfilet', 'aus', 'dem', 'ofen', 'mit', 'gewurfelt', 'kartoffeln', 'und', 'spargeln', 'freitagspasta', 'samstag', 'es', 'gibt', 'zmorg', 'frisch', 'zopf', 'auch', 'uber', 'die', 'gass', 'zu', 'kauf', 'mittagsmenus', 'und', 'fein', 'desserts...', 'kontakt', 'kempttalstrass', '8', '8330', 'pfaffikon', 'kart', 'auf', 'googl', 'maps', 'info', 'cucinapiccante.ch', '043', '288', '87', '13', 'offnungszeit', 'montag', 'bis', 'freitag', '8', 'bis', '17', 'uhr', 'samstag', '8', 'bis', '16', 'uhr', 'reservation', 'bitt', 'telefon']\n"
     ]
    }
   ],
   "source": [
    "# Stemming mit Snowball\n",
    "from nltk.stem.snowball import SnowballStemmer\n",
    "stemmer = SnowballStemmer('german')\n",
    "\n",
    "snowball_processed_text = [stemmer.stem(word) for word in processed_text.split()]\n",
    "\n",
    "print(snowball_processed_text)"
   ]
  },
  {
   "cell_type": "markdown",
   "metadata": {},
   "source": [
    "## Erkenntnisse zum Stemmer\n",
    "- Text wird automatisch tokeniziert\n",
    "- Punkte zwischen den Zahlen bei Preisen müssen excepted werden\n",
    "- Wortreduktionen müssen für Regeln nicht \"schön\" klingen (z.B. Speise wird je nach Stemmer auf \"speis\" oder \"spei\" reduziert)\n",
    "-  Die Wortreduktionen müssen für das Definieren von Regeln gesichtet werden\n",
    "  "
   ]
  },
  {
   "cell_type": "code",
   "execution_count": 31,
   "metadata": {},
   "outputs": [
    {
     "name": "stdout",
     "output_type": "stream",
     "text": [
      "100000000\n"
     ]
    }
   ],
   "source": [
    "# Regex für Preis\n",
    "# Findet alles: [(0-9)+.?(0-9)*]+\n",
    "\n",
    "\n",
    "regexed = re.sub(r'\\d+(,\\d{3})*(\\.\\d{1,2})', 'preis', '100000000') \n",
    "print(regexed)\n"
   ]
  }
 ],
 "metadata": {
  "kernelspec": {
   "display_name": "Python 3",
   "language": "python",
   "name": "python3"
  },
  "language_info": {
   "codemirror_mode": {
    "name": "ipython",
    "version": 3
   },
   "file_extension": ".py",
   "mimetype": "text/x-python",
   "name": "python",
   "nbconvert_exporter": "python",
   "pygments_lexer": "ipython3",
   "version": "3.7.2"
  }
 },
 "nbformat": 4,
 "nbformat_minor": 2
}
