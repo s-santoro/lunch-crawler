{
 "cells": [
  {
   "cell_type": "code",
   "execution_count": 1,
   "metadata": {
    "scrolled": false
   },
   "outputs": [
    {
     "name": "stdout",
     "output_type": "stream",
     "text": [
      "     Unnamed: 0                           date  \\\n",
      "627         187  Mon, 11 Mar 2019 05:15:03 GMT   \n",
      "628         188  Mon, 11 Mar 2019 06:08:14 GMT   \n",
      "629         189  Mon, 11 Mar 2019 06:35:30 GMT   \n",
      "630         190  Sun, 10 Mar 2019 17:35:11 GMT   \n",
      "631         191  Sun, 10 Mar 2019 12:28:45 GMT   \n",
      "\n",
      "                                                  text encoding  \\\n",
      "627  Navigation Home Tagesmenu A la carte Galerie E...    UTF-8   \n",
      "628  Reservation 3 Home Menukarte Reservieren Konta...    UTF-8   \n",
      "629  Menu Reservationen Catering Events News Menu R...    UTF-8   \n",
      "630  Willkommen Speisen & Getränke Hausspezialitäte...    UTF-8   \n",
      "631  info@mesob-restaurant.ch DE Home Mesob Menu K...    utf-8   \n",
      "\n",
      "                                      title  \\\n",
      "627                Tagesmenu |Luna Mexicana   \n",
      "628   Menukarte Archives - MaharanaMaharana   \n",
      "629                         Menu — Maharani   \n",
      "630  Mittagsmenü - Restaurant Le Mazot Bern   \n",
      "631                        Mesob Restaurant   \n",
      "\n",
      "                                            url  \\\n",
      "627    http://www.lunamexicana.ch/tagesmenu.php   \n",
      "628  http://www.maharana.ch/menu-category/menu/   \n",
      "629                https://www.maharani.ch/menu   \n",
      "630  http://www.mazot-bern.ch/tagesmenuuml.html   \n",
      "631         https://mesob-restaurant.ch/v2/Menu   \n",
      "\n",
      "                                               content  Class  \n",
      "627  <!DOCTYPE html>\\r\\n<html lang=\"de\">\\r\\n\\r\\n<he...      1  \n",
      "628  <!DOCTYPE html>\\r\\n<!--[if lt IE 7]> <html cla...      1  \n",
      "629  <!doctype html>\\r\\n\\r\\n<html xmlns:og=\"http://...      1  \n",
      "630  <!DOCTYPE html>\\r\\n<html>\\r\\n\\t<head><script s...      1  \n",
      "631  <!DOCTYPE html>\\r\\r\\n<html>\\r\\r\\n<head>\\r\\r\\n ...      1  \n"
     ]
    }
   ],
   "source": [
    "import pandas as pd\n",
    "import numpy as np  \n",
    "import re  \n",
    "\n",
    "\n",
    "data = pd.read_csv('data/2019-03-20T1404_Importer_out.csv')\n",
    "print(data.tail())"
   ]
  },
  {
   "cell_type": "code",
   "execution_count": 56,
   "metadata": {},
   "outputs": [
    {
     "name": "stdout",
     "output_type": "stream",
     "text": [
      "Café Neumärt Home Über uns Warme Getränke Tee im Kännchen Kalte Getränke Frühstück Tages u. Wochenmenüs Kalte Speisen Warme Speisen Glaçe Süsses Galerie Wunschliste Gästebuch Weg zum Cafe Über die Gasse Kontakt Birchermüesli Birchermüesli klein mit Rahm Birchermüesli gross mit Rahm Fr. 5.30 Fr. 6.30 Fr. 9.50 Fr. 11.70 Salate Kleiner grüner Salat Kleiner Tomatensalat Kleiner gemischter Salat Grüner Salat mit Ei, Tomaten und Spargelspitzen Salatteller mit verschiedenen Salaten und Ei garniert Salat Niçoise Fr. 5.90 Fr. 5.90 Fr. 7.90 Fr. 9.90 Fr. 15.90 Fr. 16.90 Sandwiches (mit Hausbrot) Ei Fleischkäse Käse Salami Schinken Spargeln Thon Rohschinken Fr. 6.90 Fr. 7.60 Canapé Ei Fleischkäse Käse Salami Schinken Spargeln Thon Fr. 6.90 Cafe Neumärt Neumarkt 28 8001 Zürich Tel. 044 251 00 12 Öffnungszeiten Montag - Donnerstag 6:00 - 18:00 Uhr Freitag 6:00 - 17:00 Uhr Samstag 7:00 - 14:00 Uhr Sonn. u. Feiertage geschlossen ******************* Gratis WLAN für unsere Gäste ******************* Jeden Tag frische Fruchtwähen ******************* Impressum | Datenschutz | Cookie-Richtlinie | Sitemap Abmelden | Bearbeiten\n"
     ]
    }
   ],
   "source": [
    "raw_text = data['text'].iloc[500]\n",
    "\n",
    "print(raw_text)"
   ]
  },
  {
   "cell_type": "markdown",
   "metadata": {},
   "source": [
    "# Preprocessing"
   ]
  },
  {
   "cell_type": "code",
   "execution_count": 64,
   "metadata": {
    "scrolled": false
   },
   "outputs": [
    {
     "name": "stdout",
     "output_type": "stream",
     "text": [
      "Caf Neumärt Home Über uns Warme Getränke Tee im Kännchen Kalte Getränke Frühstück Tages u. Wochenmenüs Kalte Speisen Warme Speisen Gla e Süsses Galerie Wunschliste Gästebuch Weg zum Cafe Über die Gasse Kontakt Birchermüesli Birchermüesli klein mit Rahm Birchermüesli gross mit Rahm Fr. 5.30 Fr. 6.30 Fr. 9.50 Fr. 11.70 Salate Kleiner grüner Salat Kleiner Tomatensalat Kleiner gemischter Salat Grüner Salat mit Ei Tomaten und Spargelspitzen Salatteller mit verschiedenen Salaten und Ei garniert Salat Ni oise Fr. 5.90 Fr. 5.90 Fr. 7.90 Fr. 9.90 Fr. 15.90 Fr. 16.90 Sandwiches mit Hausbrot Ei Fleischkäse Käse Salami Schinken Spargeln Thon Rohschinken Fr. 6.90 Fr. 7.60 Canap Ei Fleischkäse Käse Salami Schinken Spargeln Thon Fr. 6.90 Cafe Neumärt Neumarkt 28 8001 Zürich Tel. 044 251 00 12 Öffnungszeiten Montag Donnerstag 6 00 18 00 Uhr Freitag 6 00 17 00 Uhr Samstag 7 00 14 00 Uhr Sonn. u. Feiertage geschlossen Gratis WLAN für unsere Gäste Jeden Tag frische Fruchtwähen Impressum Datenschutz Cookie Richtlinie Sitemap Abmelden Bearbeiten\n"
     ]
    }
   ],
   "source": [
    "# Remove all the special characters\n",
    "processed_text = re.sub(r'[^äöüÄÖÜa-zA-Z0-9\\.]+', ' ', str(raw_text))\n",
    "\n",
    "# processed_text = re.sub(r'\\W', ' ', str(raw_text))   --> Alternative: Alle Special caracters löschen, auch punkte zwischen Zahlen\n",
    "print(processed_text)\n",
    "\n",
    "# Punkte zwischen Zahlen???"
   ]
  },
  {
   "cell_type": "code",
   "execution_count": 50,
   "metadata": {},
   "outputs": [
    {
     "name": "stdout",
     "output_type": "stream",
     "text": [
      "CUCINA PICCANTE RESTAURANT TAKE AWAY CAF Wochenmenü 11. März bis 15. März Montag Rigatoni Pasta mit Bolognese CH Rind Kartoffelscheiben mit frischen Artischocken aus dem Ofen Dienstag Pollo CH Poulet alla diavola mit Kartoffeln und Peperoni aus dem Ofen Pizzoccheri mit Rüebli Wirz Spinat Mittwoch Scaloppine vom CH Säuli al marsala mit Risotto al parmigiano Gnocchetti Pasta alle verdure Donnerstag Polpette dreierlei CH al vino bianco mit Kartoffelstampf Pasta mit frischen Spargeln an Safransauce Freitag Qurma Koscht afgh. Rindsvoressen mit Reis CH Rind Lachsfilet aus dem Ofen mit gewürfelten Kartoffeln und Spargeln Freitagspasta Samstag Es gibt Zmorge frischen Zopf auch über die Gasse zu kaufen Mittagsmenüs und feine Desserts... Kontakt Kempttalstrasse 8 8330 Pfäffikon Karte auf Google Maps info cucinapiccante.ch 043 288 87 13 Öffnungszeiten Montag bis Freitag 8 bis 17 Uhr Samstag 8 bis 16 Uhr Reservationen bitte telefonisch\n"
     ]
    }
   ],
   "source": [
    "# remove all single characters\n",
    "processed_text = re.sub(r'\\s+[a-zA-Z]\\s+', ' ', processed_text)\n",
    "print(processed_text)"
   ]
  },
  {
   "cell_type": "code",
   "execution_count": 51,
   "metadata": {},
   "outputs": [
    {
     "name": "stdout",
     "output_type": "stream",
     "text": [
      "CUCINA PICCANTE RESTAURANT TAKE AWAY CAF Wochenmenü 11. März bis 15. März Montag Rigatoni Pasta mit Bolognese CH Rind Kartoffelscheiben mit frischen Artischocken aus dem Ofen Dienstag Pollo CH Poulet alla diavola mit Kartoffeln und Peperoni aus dem Ofen Pizzoccheri mit Rüebli Wirz Spinat Mittwoch Scaloppine vom CH Säuli al marsala mit Risotto al parmigiano Gnocchetti Pasta alle verdure Donnerstag Polpette dreierlei CH al vino bianco mit Kartoffelstampf Pasta mit frischen Spargeln an Safransauce Freitag Qurma Koscht afgh. Rindsvoressen mit Reis CH Rind Lachsfilet aus dem Ofen mit gewürfelten Kartoffeln und Spargeln Freitagspasta Samstag Es gibt Zmorge frischen Zopf auch über die Gasse zu kaufen Mittagsmenüs und feine Desserts... Kontakt Kempttalstrasse 8 8330 Pfäffikon Karte auf Google Maps info cucinapiccante.ch 043 288 87 13 Öffnungszeiten Montag bis Freitag 8 bis 17 Uhr Samstag 8 bis 16 Uhr Reservationen bitte telefonisch\n"
     ]
    }
   ],
   "source": [
    "# Remove single characters from the start\n",
    "processed_text = re.sub(r'\\^[a-zA-Z]\\s+', ' ', processed_text) \n",
    "print(processed_text)"
   ]
  },
  {
   "cell_type": "code",
   "execution_count": 52,
   "metadata": {},
   "outputs": [
    {
     "name": "stdout",
     "output_type": "stream",
     "text": [
      "CUCINA PICCANTE RESTAURANT TAKE AWAY CAF Wochenmenü 11. März bis 15. März Montag Rigatoni Pasta mit Bolognese CH Rind Kartoffelscheiben mit frischen Artischocken aus dem Ofen Dienstag Pollo CH Poulet alla diavola mit Kartoffeln und Peperoni aus dem Ofen Pizzoccheri mit Rüebli Wirz Spinat Mittwoch Scaloppine vom CH Säuli al marsala mit Risotto al parmigiano Gnocchetti Pasta alle verdure Donnerstag Polpette dreierlei CH al vino bianco mit Kartoffelstampf Pasta mit frischen Spargeln an Safransauce Freitag Qurma Koscht afgh. Rindsvoressen mit Reis CH Rind Lachsfilet aus dem Ofen mit gewürfelten Kartoffeln und Spargeln Freitagspasta Samstag Es gibt Zmorge frischen Zopf auch über die Gasse zu kaufen Mittagsmenüs und feine Desserts... Kontakt Kempttalstrasse 8 8330 Pfäffikon Karte auf Google Maps info cucinapiccante.ch 043 288 87 13 Öffnungszeiten Montag bis Freitag 8 bis 17 Uhr Samstag 8 bis 16 Uhr Reservationen bitte telefonisch\n"
     ]
    }
   ],
   "source": [
    "# Substituting multiple spaces with single space\n",
    "processed_text = re.sub(r'\\s+', ' ', processed_text, flags=re.I)\n",
    "print(processed_text)"
   ]
  },
  {
   "cell_type": "code",
   "execution_count": 53,
   "metadata": {},
   "outputs": [
    {
     "name": "stdout",
     "output_type": "stream",
     "text": [
      "CUCINA PICCANTE RESTAURANT TAKE AWAY CAF Wochenmenü 11. März bis 15. März Montag Rigatoni Pasta mit Bolognese CH Rind Kartoffelscheiben mit frischen Artischocken aus dem Ofen Dienstag Pollo CH Poulet alla diavola mit Kartoffeln und Peperoni aus dem Ofen Pizzoccheri mit Rüebli Wirz Spinat Mittwoch Scaloppine vom CH Säuli al marsala mit Risotto al parmigiano Gnocchetti Pasta alle verdure Donnerstag Polpette dreierlei CH al vino bianco mit Kartoffelstampf Pasta mit frischen Spargeln an Safransauce Freitag Qurma Koscht afgh. Rindsvoressen mit Reis CH Rind Lachsfilet aus dem Ofen mit gewürfelten Kartoffeln und Spargeln Freitagspasta Samstag Es gibt Zmorge frischen Zopf auch über die Gasse zu kaufen Mittagsmenüs und feine Desserts... Kontakt Kempttalstrasse 8 8330 Pfäffikon Karte auf Google Maps info cucinapiccante.ch 043 288 87 13 Öffnungszeiten Montag bis Freitag 8 bis 17 Uhr Samstag 8 bis 16 Uhr Reservationen bitte telefonisch\n"
     ]
    }
   ],
   "source": [
    "# Converting to Lowercase\n",
    "#processed_text = processed_text.lower()\n",
    "print(processed_text)"
   ]
  },
  {
   "cell_type": "code",
   "execution_count": 54,
   "metadata": {},
   "outputs": [
    {
     "name": "stdout",
     "output_type": "stream",
     "text": [
      "['cucina', 'piccant', 'restaurant', 'tak', 'away', 'caf', 'wochenmenu', '11.', 'marz', 'bis', '15.', 'marz', 'montag', 'rigatoni', 'pasta', 'mit', 'bolog', 'ch', 'rind', 'kartoffelscheib', 'mit', 'frisch', 'artischock', 'aus', 'dem', 'ofe', 'dienstag', 'pollo', 'ch', 'poulet', 'alla', 'diavola', 'mit', 'kartoffel', 'und', 'peperoni', 'aus', 'dem', 'ofe', 'pizzoccheri', 'mit', 'ruebli', 'wirz', 'spinat', 'mittwoch', 'scaloppi', 'vom', 'ch', 'sauli', 'al', 'marsala', 'mit', 'risotto', 'al', 'parmigiano', 'gnocchetti', 'pasta', 'all', 'verdur', 'donnerstag', 'polpett', 'dreierlei', 'ch', 'al', 'vino', 'bianco', 'mit', 'kartoffelstampf', 'pasta', 'mit', 'frisch', 'spargel', 'an', 'safransauc', 'freitag', 'qurma', 'koscht', 'afgh.', 'rindsvoress', 'mit', 'reis', 'ch', 'rind', 'lachsfilet', 'aus', 'dem', 'ofe', 'mit', 'wurfel', 'kartoffel', 'und', 'spargel', 'freitagspasta', 'samstag', 'es', 'gib', 'zmorg', 'frisch', 'zopf', 'auch', 'uber', 'die', 'gass', 'zu', 'kauf', 'mittagsmenu', 'und', 'fein', 'desserts...', 'kontakt', 'kempttalstrass', '8', '8330', 'pfaffiko', 'kart', 'auf', 'googl', 'map', 'info', 'cucinapiccante.ch', '043', '288', '87', '13', 'offnungszeit', 'montag', 'bis', 'freitag', '8', 'bis', '17', 'uhr', 'samstag', '8', 'bis', '16', 'uhr', 'reservatio', 'bitt', 'telefonisch']\n"
     ]
    }
   ],
   "source": [
    "# Stemming mit Cistem\n",
    "from nltk.stem.cistem import Cistem\n",
    "stemmer = Cistem()\n",
    "\n",
    "cistem_processed_text = [stemmer.stem(word) for word in processed_text.split()]\n",
    "\n",
    "print(cistem_processed_text)"
   ]
  },
  {
   "cell_type": "code",
   "execution_count": 55,
   "metadata": {},
   "outputs": [
    {
     "name": "stdout",
     "output_type": "stream",
     "text": [
      "['cucina', 'piccant', 'restaurant', 'tak', 'away', 'caf', 'wochenmenu', '11.', 'marz', 'bis', '15.', 'marz', 'montag', 'rigatoni', 'pasta', 'mit', 'bolognes', 'ch', 'rind', 'kartoffelscheib', 'mit', 'frisch', 'artischock', 'aus', 'dem', 'ofen', 'dienstag', 'pollo', 'ch', 'poulet', 'alla', 'diavola', 'mit', 'kartoffeln', 'und', 'peperoni', 'aus', 'dem', 'ofen', 'pizzoccheri', 'mit', 'ruebli', 'wirz', 'spinat', 'mittwoch', 'scaloppin', 'vom', 'ch', 'sauli', 'al', 'marsala', 'mit', 'risotto', 'al', 'parmigiano', 'gnocchetti', 'pasta', 'all', 'verdur', 'donnerstag', 'polpett', 'dreierlei', 'ch', 'al', 'vino', 'bianco', 'mit', 'kartoffelstampf', 'pasta', 'mit', 'frisch', 'spargeln', 'an', 'safransauc', 'freitag', 'qurma', 'koscht', 'afgh.', 'rindsvoress', 'mit', 'reis', 'ch', 'rind', 'lachsfilet', 'aus', 'dem', 'ofen', 'mit', 'gewurfelt', 'kartoffeln', 'und', 'spargeln', 'freitagspasta', 'samstag', 'es', 'gibt', 'zmorg', 'frisch', 'zopf', 'auch', 'uber', 'die', 'gass', 'zu', 'kauf', 'mittagsmenus', 'und', 'fein', 'desserts...', 'kontakt', 'kempttalstrass', '8', '8330', 'pfaffikon', 'kart', 'auf', 'googl', 'maps', 'info', 'cucinapiccante.ch', '043', '288', '87', '13', 'offnungszeit', 'montag', 'bis', 'freitag', '8', 'bis', '17', 'uhr', 'samstag', '8', 'bis', '16', 'uhr', 'reservation', 'bitt', 'telefon']\n"
     ]
    }
   ],
   "source": [
    "# Stemming mit Snowball\n",
    "from nltk.stem.snowball import SnowballStemmer\n",
    "stemmer = SnowballStemmer('german')\n",
    "\n",
    "snowball_processed_text = [stemmer.stem(word) for word in processed_text.split()]\n",
    "\n",
    "print(snowball_processed_text)"
   ]
  },
  {
   "cell_type": "markdown",
   "metadata": {},
   "source": [
    "## Erkenntnisse zum Stemmer\n",
    "- Text wird automatisch tokeniziert\n",
    "- Punkte zwischen den Zahlen bei Preisen müssen excepted werden\n",
    "- Wortreduktionen müssen für Regeln nicht \"schön\" klingen (z.B. Speise wird je nach Stemmer auf \"speis\" oder \"spei\" reduziert)\n",
    "-  Die Wortreduktionen müssen für das Definieren von Regeln gesichtet werden\n",
    "  "
   ]
  }
 ],
 "metadata": {
  "kernelspec": {
   "display_name": "Python 3",
   "language": "python",
   "name": "python3"
  },
  "language_info": {
   "codemirror_mode": {
    "name": "ipython",
    "version": 3
   },
   "file_extension": ".py",
   "mimetype": "text/x-python",
   "name": "python",
   "nbconvert_exporter": "python",
   "pygments_lexer": "ipython3",
   "version": "3.7.1"
  }
 },
 "nbformat": 4,
 "nbformat_minor": 2
}
